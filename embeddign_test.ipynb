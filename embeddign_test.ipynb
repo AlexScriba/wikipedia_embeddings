{
 "metadata": {
  "language_info": {
   "codemirror_mode": {
    "name": "ipython",
    "version": 3
   },
   "file_extension": ".py",
   "mimetype": "text/x-python",
   "name": "python",
   "nbconvert_exporter": "python",
   "pygments_lexer": "ipython3",
   "version": "3.7.6-final"
  },
  "orig_nbformat": 2,
  "kernelspec": {
   "name": "python37664bitcondae59bb5a218af436b8e39ad0fe1c4c557",
   "display_name": "Python 3.7.6 64-bit (conda)"
  }
 },
 "nbformat": 4,
 "nbformat_minor": 2,
 "cells": [
  {
   "cell_type": "code",
   "execution_count": 17,
   "metadata": {},
   "outputs": [],
   "source": [
    "import re\n",
    "\n",
    "import nltk\n",
    "\n",
    "from gensim.models import Doc2Vec, Word2Vec\n",
    "from gensim.models.doc2vec import TaggedDocument\n",
    "from gensim.models.phrases import Phraser, Phrases\n"
   ]
  },
  {
   "cell_type": "code",
   "execution_count": 5,
   "metadata": {},
   "outputs": [],
   "source": [
    "with open('data.txt') as f:\n",
    "    corpus_read = f.readlines()\n",
    "\n",
    "corpus_read = [doc.strip() for doc in corpus_read]\n",
    "corpus_read = [doc.lower() for doc in corpus_read]\n",
    "\n",
    "corpus_read = [re.sub('[^a-zA-Z]', ' ', doc) for doc in corpus_read]\n",
    "corpus_read = [re.sub(r'\\s+', ' ', doc) for doc in corpus_read]"
   ]
  },
  {
   "cell_type": "code",
   "execution_count": 24,
   "metadata": {},
   "outputs": [],
   "source": [
    "all_sentences = []\n",
    "for sent in corpus_read: all_sentences += sent.split(' ')\n",
    "\n",
    "common_terms= [\n",
    "    'the',\n",
    "    'and',\n",
    "    'then',\n",
    "    'a',\n",
    "    'with',\n",
    "    'as',\n",
    "    'is',\n",
    "]\n",
    "\n",
    "phrases = Phrases(all_sentences, common_terms=common_terms)\n",
    "\n",
    "bigram = Phraser(phrases)\n",
    "\n",
    "all_sentences = list(bigram[all_sentences])\n",
    "\n",
    "word_list = [nltk.word_tokenize(sent) for sent in all_sentences]"
   ]
  },
  {
   "cell_type": "code",
   "execution_count": 25,
   "metadata": {},
   "outputs": [
    {
     "output_type": "execute_result",
     "data": {
      "text/plain": "(8587, 13230)"
     },
     "metadata": {},
     "execution_count": 25
    }
   ],
   "source": [
    "model = Word2Vec(size=100, window=5, min_count=1, workers=8)\n",
    "\n",
    "model.build_vocab(word_list)\n",
    "model.train(word_list, total_examples=model.corpus_count, epochs=10)"
   ]
  },
  {
   "cell_type": "code",
   "execution_count": 27,
   "metadata": {},
   "outputs": [
    {
     "output_type": "execute_result",
     "data": {
      "text/plain": "[('until', 0.26237061619758606),\n ('seldom', 0.2533455193042755),\n ('everywhere', 0.23397141695022583),\n ('option', 0.2312966287136078),\n ('road', 0.23069393634796143),\n ('enacted', 0.2296680510044098),\n ('form', 0.22483274340629578),\n ('for', 0.22252905368804932),\n ('provinces', 0.2211877852678299),\n ('territory', 0.21724645793437958)]"
     },
     "metadata": {},
     "execution_count": 27
    }
   ],
   "source": [
    "model.most_similar('vehicle')"
   ]
  },
  {
   "cell_type": "code",
   "execution_count": null,
   "metadata": {},
   "outputs": [],
   "source": []
  }
 ]
}