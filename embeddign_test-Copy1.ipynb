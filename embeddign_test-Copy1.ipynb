{
 "cells": [
  {
   "cell_type": "code",
   "execution_count": 9,
   "metadata": {},
   "outputs": [],
   "source": [
    "import re\n",
    "\n",
    "import nltk\n",
    "\n",
    "from gensim.models import Doc2Vec, Word2Vec\n",
    "from gensim.models.doc2vec import TaggedDocument\n",
    "from gensim.models.phrases import Phraser, Phrases\n"
   ]
  },
  {
   "cell_type": "code",
   "execution_count": 10,
   "metadata": {},
   "outputs": [],
   "source": [
    "with open('small_data.txt') as f:\n",
    "    corpus_read = f.readlines()\n",
    "\n",
    "corpus_read = [doc.strip() for doc in corpus_read]\n",
    "corpus_read = [doc.lower() for doc in corpus_read]\n",
    "\n",
    "corpus_read = [re.sub('[^a-zA-Z]', ' ', doc) for doc in corpus_read]\n",
    "corpus_read = [re.sub(r'\\s+', ' ', doc) for doc in corpus_read]"
   ]
  },
  {
   "cell_type": "code",
   "execution_count": 11,
   "metadata": {},
   "outputs": [],
   "source": [
    "\n",
    "all_sentences = []\n",
    "for sent in corpus_read: all_sentences += sent.split(' ')\n",
    "\n",
    "common_terms= [\n",
    "    'the',\n",
    "    'and',\n",
    "    'then',\n",
    "    'a',\n",
    "    'with',\n",
    "    'as',\n",
    "    'is',\n",
    "]\n",
    "\n",
    "phrases = Phrases(all_sentences, common_terms=common_terms)\n",
    "\n",
    "bigram = Phraser(phrases)\n",
    "\n",
    "all_sentences = list(bigram[all_sentences])\n",
    "\n",
    "word_list = [nltk.word_tokenize(sent) for sent in all_sentences]"
   ]
  },
  {
   "cell_type": "code",
   "execution_count": 12,
   "metadata": {},
   "outputs": [
    {
     "data": {
      "text/plain": [
       "(3419474, 4419410)"
      ]
     },
     "execution_count": 12,
     "metadata": {},
     "output_type": "execute_result"
    }
   ],
   "source": [
    "model = Word2Vec(size=100, window=5, min_count=1, workers=8)\n",
    "\n",
    "model.build_vocab(word_list)\n",
    "model.train(word_list, total_examples=model.corpus_count, epochs=10)"
   ]
  },
  {
   "cell_type": "code",
   "execution_count": 37,
   "metadata": {},
   "outputs": [
    {
     "name": "stderr",
     "output_type": "stream",
     "text": [
      "/Users/milindsharma/opt/anaconda3/lib/python3.7/site-packages/ipykernel_launcher.py:1: DeprecationWarning: Call to deprecated `most_similar` (Method will be removed in 4.0.0, use self.wv.most_similar() instead).\n",
      "  \"\"\"Entry point for launching an IPython kernel.\n"
     ]
    },
    {
     "data": {
      "text/plain": [
       "[('endemic', 0.42441099882125854),\n",
       " ('hong', 0.3985779881477356),\n",
       " ('tiny', 0.38788479566574097),\n",
       " ('mixed', 0.38747063279151917),\n",
       " ('hahn', 0.38093480467796326),\n",
       " ('boomed', 0.3778306841850281),\n",
       " ('participants', 0.3451950252056122),\n",
       " ('groupages', 0.3429153263568878),\n",
       " ('acadia', 0.3409302830696106),\n",
       " ('quashed', 0.3407667875289917)]"
      ]
     },
     "execution_count": 37,
     "metadata": {},
     "output_type": "execute_result"
    }
   ],
   "source": [
    "model.most_similar('motorbike')"
   ]
  },
  {
   "cell_type": "code",
   "execution_count": 40,
   "metadata": {},
   "outputs": [
    {
     "name": "stderr",
     "output_type": "stream",
     "text": [
      "/Users/milindsharma/opt/anaconda3/lib/python3.7/site-packages/ipykernel_launcher.py:1: DeprecationWarning: Call to deprecated `similar_by_word` (Method will be removed in 4.0.0, use self.wv.similar_by_word() instead).\n",
      "  \"\"\"Entry point for launching an IPython kernel.\n"
     ]
    },
    {
     "data": {
      "text/plain": [
       "[('changeable', 0.36135339736938477),\n",
       " ('speed', 0.3482280373573303),\n",
       " ('bruk', 0.34467577934265137),\n",
       " ('aurea', 0.34019410610198975),\n",
       " ('vanguard', 0.3395012617111206),\n",
       " ('boneshaker', 0.33345040678977966),\n",
       " ('uneconomic', 0.3333362340927124),\n",
       " ('paddies', 0.33326613903045654),\n",
       " ('alexey', 0.32222527265548706),\n",
       " ('amuri', 0.3170902132987976)]"
      ]
     },
     "execution_count": 40,
     "metadata": {},
     "output_type": "execute_result"
    }
   ],
   "source": [
    "model.similar_by_word('strategy')"
   ]
  },
  {
   "cell_type": "code",
   "execution_count": null,
   "metadata": {},
   "outputs": [],
   "source": []
  }
 ],
 "metadata": {
  "kernelspec": {
   "display_name": "Python 3",
   "language": "python",
   "name": "python3"
  },
  "language_info": {
   "codemirror_mode": {
    "name": "ipython",
    "version": 3
   },
   "file_extension": ".py",
   "mimetype": "text/x-python",
   "name": "python",
   "nbconvert_exporter": "python",
   "pygments_lexer": "ipython3",
   "version": "3.7.4"
  }
 },
 "nbformat": 4,
 "nbformat_minor": 2
}
